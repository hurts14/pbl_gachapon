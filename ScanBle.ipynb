{
 "cells": [
  {
   "cell_type": "code",
   "execution_count": 1,
   "metadata": {},
   "outputs": [
    {
     "name": "stdout",
     "output_type": "stream",
     "text": [
      "Collecting bleak\n",
      "  Downloading bleak-0.7.1-py2.py3-none-any.whl (100 kB)\n",
      "Collecting pythonnet; platform_system == \"Windows\"\n",
      "  Downloading pythonnet-2.5.1-cp37-cp37m-win_amd64.whl (81 kB)\n",
      "Requirement already satisfied: pycparser in c:\\users\\hurts14\\anaconda3\\envs\\py37\\lib\\site-packages (from pythonnet; platform_system == \"Windows\"->bleak) (2.20)\n",
      "Installing collected packages: pythonnet, bleak\n",
      "Successfully installed bleak-0.7.1 pythonnet-2.5.1\n"
     ]
    }
   ],
   "source": [
    "#!pip install beacontools\n",
    "#!pip install bleak"
   ]
  },
  {
   "cell_type": "code",
   "execution_count": null,
   "metadata": {},
   "outputs": [],
   "source": [
    "import time\n",
    "from beacontools import BeaconScanner, EddystoneTLMFrame, EddystoneFilter"
   ]
  },
  {
   "cell_type": "code",
   "execution_count": null,
   "metadata": {},
   "outputs": [],
   "source": [
    "def callback(bt_addr, rssi, packet, additional_info):\n",
    "    print(\"<%s, %d> %s %s\" % (bt_addr, rssi, packet, additional_info))"
   ]
  },
  {
   "cell_type": "code",
   "execution_count": null,
   "metadata": {},
   "outputs": [],
   "source": [
    "scanner = BeaconScanner(callback,\n",
    "                        # remove the following line to see packets from all beacons\n",
    "                        device_filter=IBeaconFilter(uuid=\"e5b9e3a6-27e2-4c36-a257-7698da5fc140\")#[0xFD6F]\n",
    "                       )\n",
    "scanner.start()\n",
    "time.sleep(30)\n",
    "scanner.stop()"
   ]
  },
  {
   "cell_type": "code",
   "execution_count": null,
   "metadata": {},
   "outputs": [],
   "source": [
    "#0000fd6f-0000-1000-8000-00805f9b34fb\n",
    "#38:78:62:9c:11:1e"
   ]
  },
  {
   "cell_type": "code",
   "execution_count": null,
   "metadata": {},
   "outputs": [],
   "source": [
    "#If it can scan cocoa app, move Gacha.\n",
    "import subprocess\n",
    "\n",
    "cmd = ''\n",
    "subprocess.call(cmd, shell = True)"
   ]
  },
  {
   "cell_type": "code",
   "execution_count": 2,
   "metadata": {},
   "outputs": [],
   "source": [
    "from bleak import discover"
   ]
  },
  {
   "cell_type": "code",
   "execution_count": 3,
   "metadata": {},
   "outputs": [],
   "source": [
    "import asyncio"
   ]
  },
  {
   "cell_type": "code",
   "execution_count": null,
   "metadata": {},
   "outputs": [],
   "source": []
  }
 ],
 "metadata": {
  "kernelspec": {
   "display_name": "Python 3",
   "language": "python",
   "name": "python3"
  },
  "language_info": {
   "codemirror_mode": {
    "name": "ipython",
    "version": 3
   },
   "file_extension": ".py",
   "mimetype": "text/x-python",
   "name": "python",
   "nbconvert_exporter": "python",
   "pygments_lexer": "ipython3",
   "version": "3.7.7"
  }
 },
 "nbformat": 4,
 "nbformat_minor": 4
}
